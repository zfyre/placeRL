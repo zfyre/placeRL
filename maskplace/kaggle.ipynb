{
 "cells": [
  {
   "cell_type": "code",
   "execution_count": 1,
   "id": "e8ae640e",
   "metadata": {},
   "outputs": [
    {
     "name": "stdout",
     "output_type": "stream",
     "text": [
      "Cloning into 'placeRL'...\n",
      "remote: Enumerating objects: 217, done.\u001b[K\n",
      "remote: Counting objects: 100% (54/54), done.\u001b[K\n",
      "remote: Compressing objects: 100% (44/44), done.\u001b[K\n",
      "remote: Total 217 (delta 17), reused 33 (delta 7), pack-reused 163 (from 1)\u001b[K\n",
      "Receiving objects: 100% (217/217), 118.32 MiB | 37.66 MiB/s, done.\n",
      "Resolving deltas: 100% (49/49), done.\n",
      "/kaggle/working/placeRL/maskplace\n"
     ]
    }
   ],
   "source": [
    "%pwd\n",
    "!git clone https://github.com/zfyre/placeRL.git\n",
    "%cd placeRL/maskplace"
   ]
  },
  {
   "cell_type": "code",
   "execution_count": 2,
   "id": "e442cdac",
   "metadata": {},
   "outputs": [
    {
     "name": "stdout",
     "output_type": "stream",
     "text": [
      "Requirement already satisfied: protobuf==3.20.* in /usr/local/lib/python3.11/dist-packages (3.20.3)\n"
     ]
    }
   ],
   "source": [
    "!pip install protobuf==3.20.*"
   ]
  },
  {
   "cell_type": "code",
   "execution_count": null,
   "id": "32e59811",
   "metadata": {},
   "outputs": [
    {
     "data": {
      "application/javascript": "\n        (async () => {\n            const url = new URL(await google.colab.kernel.proxyPort(6006, {'cache': true}));\n            url.searchParams.set('tensorboardColab', 'true');\n            const iframe = document.createElement('iframe');\n            iframe.src = url;\n            iframe.setAttribute('width', '100%');\n            iframe.setAttribute('height', '800');\n            iframe.setAttribute('frameborder', 0);\n            document.body.appendChild(iframe);\n        })();\n    ",
      "text/plain": [
       "<IPython.core.display.Javascript object>"
      ]
     },
     "metadata": {},
     "output_type": "display_data"
    }
   ],
   "source": [
    "%load_ext tensorboard\n",
    "%tensorboard --logdir tb_log"
   ]
  },
  {
   "cell_type": "code",
   "execution_count": 4,
   "id": "d83446c9",
   "metadata": {},
   "outputs": [
    {
     "name": "stdout",
     "output_type": "stream",
     "text": [
      "2025-04-29 16:39:09.441133: E external/local_xla/xla/stream_executor/cuda/cuda_fft.cc:477] Unable to register cuFFT factory: Attempting to register factory for plugin cuFFT when one has already been registered\n",
      "WARNING: All log messages before absl::InitializeLog() is called are written to STDERR\n",
      "E0000 00:00:1745944749.463217     132 cuda_dnn.cc:8310] Unable to register cuDNN factory: Attempting to register factory for plugin cuDNN when one has already been registered\n",
      "E0000 00:00:1745944749.469583     132 cuda_blas.cc:1418] Unable to register cuBLAS factory: Attempting to register factory for plugin cuBLAS when one has already been registered\n",
      "Device set to : Tesla T4\n",
      "area_sum = 250000.0\n",
      "pin_cnt = 1200\n",
      "adjust net size = 540\n",
      "node_net_num_max 12\n",
      "node_area_max = 2500.0\n",
      "grid * grid 50176\n",
      "placedb.node_cnt 100\n",
      "placedb.net_cnt 540\n",
      "self.ratio = 1.59\n",
      "/usr/local/lib/python3.11/dist-packages/gym/core.py:317: DeprecationWarning: \u001b[33mWARN: Initializing wrapper in old step API which returns one bool instead of two. It is recommended to set `new_step_api=True` to use new step API. This will be the default behaviour in future.\u001b[0m\n",
      "  deprecation(\n",
      "/usr/local/lib/python3.11/dist-packages/gym/wrappers/step_api_compatibility.py:39: DeprecationWarning: \u001b[33mWARN: Initializing environment in old step API which returns one bool instead of two. It is recommended to set `new_step_api=True` to use new step API. This will be the default behaviour in future.\u001b[0m\n",
      "  deprecation(\n",
      "/usr/local/lib/python3.11/dist-packages/gym/core.py:256: DeprecationWarning: \u001b[33mWARN: Function `env.seed(seed)` is marked as deprecated and will be removed in the future. Please use `env.reset(seed=seed)` instead.\u001b[0m\n",
      "  deprecation(\n",
      "seed = 42\n",
      "lr = 0.0025\n",
      "placed_num_macro = 100\n",
      "batch_size = 64\n",
      "/usr/local/lib/python3.11/dist-packages/torchvision/models/_utils.py:208: UserWarning: The parameter 'pretrained' is deprecated since 0.13 and may be removed in the future, please use 'weights' instead.\n",
      "  warnings.warn(\n",
      "/usr/local/lib/python3.11/dist-packages/torchvision/models/_utils.py:223: UserWarning: Arguments other than a weight enum or `None` for 'weights' are deprecated since 0.13 and may be removed in the future. The current behavior is equivalent to passing `weights=ResNet18_Weights.IMAGENET1K_V1`. You can also use `weights=ResNet18_Weights.DEFAULT` to get the most up-to-date weights.\n",
      "  warnings.warn(msg)\n",
      "Downloading: \"https://download.pytorch.org/models/resnet18-f37072fd.pth\" to /root/.cache/torch/hub/checkpoints/resnet18-f37072fd.pth\n",
      "100%|███████████████████████████████████████| 44.7M/44.7M [00:00<00:00, 178MB/s]\n",
      "score = -14885671.0, raw_score = -14885671.0\n",
      "save_figure: figures/2025-04-29-16-39-17-14885671.png\n",
      "Epoch 0, Moving average score is: -14885671.00 \n",
      "score = -15090732.0, raw_score = -15090732.0\n",
      "Epoch 1, Moving average score is: -14906177.10 \n",
      "score = -14885014.0, raw_score = -14885014.0\n",
      "Epoch 2, Moving average score is: -14904060.79 \n",
      "score = -14679380.0, raw_score = -14679380.0\n",
      "Epoch 3, Moving average score is: -14881592.71 \n",
      "score = -14888314.0, raw_score = -14888314.0\n",
      "Epoch 4, Moving average score is: -14882264.84 \n",
      "score = -14676674.0, raw_score = -14676674.0\n",
      "Epoch 5, Moving average score is: -14861705.76 \n",
      "score = -14887510.0, raw_score = -14887510.0\n",
      "Epoch 6, Moving average score is: -14864286.18 \n",
      "score = -15081936.0, raw_score = -15081936.0\n",
      "Epoch 7, Moving average score is: -14886051.16 \n",
      "score = -15276440.0, raw_score = -15276440.0\n",
      "save_figure: figures/2025-04-29-16-39-34-15276440.png\n",
      "Epoch 8, Moving average score is: -14925090.05 \n",
      "score = -14280835.0, raw_score = -14280835.0\n",
      "Epoch 9, Moving average score is: -14860664.54 \n",
      "score = -15486994.0, raw_score = -15486994.0\n",
      "Epoch 10, Moving average score is: -14923297.49 \n",
      "score = -14482743.0, raw_score = -14482743.0\n",
      "Epoch 11, Moving average score is: -14879242.04 \n",
      "score = -14686307.0, raw_score = -14686307.0\n",
      "Epoch 12, Moving average score is: -14859948.53 \n",
      "score = -14682773.0, raw_score = -14682773.0\n",
      "Epoch 13, Moving average score is: -14842230.98 \n",
      "score = -14879902.0, raw_score = -14879902.0\n",
      "Epoch 14, Moving average score is: -14845998.08 \n",
      "score = -14477853.0, raw_score = -14477853.0\n",
      "Epoch 15, Moving average score is: -14809183.57 \n",
      "score = -14481045.0, raw_score = -14481045.0\n",
      "save_figure: figures/2025-04-29-16-40-33-14481045.png\n",
      "Epoch 16, Moving average score is: -14776369.72 \n",
      "score = -14881162.0, raw_score = -14881162.0\n",
      "Epoch 17, Moving average score is: -14786848.95 \n",
      "score = -15679143.0, raw_score = -15679143.0\n",
      "Epoch 18, Moving average score is: -14876078.35 \n",
      "score = -15079644.0, raw_score = -15079644.0\n",
      "Epoch 19, Moving average score is: -14896434.92 \n",
      "score = -15281015.0, raw_score = -15281015.0\n",
      "Epoch 20, Moving average score is: -14934892.92 \n",
      "score = -15283088.0, raw_score = -15283088.0\n",
      "Epoch 21, Moving average score is: -14969712.43 \n",
      "score = -14887642.0, raw_score = -14887642.0\n",
      "Epoch 22, Moving average score is: -14961505.39 \n",
      "score = -15085455.0, raw_score = -15085455.0\n",
      "Epoch 23, Moving average score is: -14973900.35 \n",
      "score = -15076806.0, raw_score = -15076806.0\n",
      "save_figure: figures/2025-04-29-16-41-32-15076806.png\n",
      "Epoch 24, Moving average score is: -14984190.91 \n",
      "score = -15280235.0, raw_score = -15280235.0\n",
      "Epoch 25, Moving average score is: -15013795.32 \n",
      "score = -15092958.0, raw_score = -15092958.0\n",
      "Epoch 26, Moving average score is: -15021711.59 \n",
      "score = -15085536.0, raw_score = -15085536.0\n",
      "Epoch 27, Moving average score is: -15028094.03 \n",
      "score = -15281612.0, raw_score = -15281612.0\n",
      "Epoch 28, Moving average score is: -15053445.83 \n",
      "score = -14086070.0, raw_score = -14086070.0\n",
      "Epoch 29, Moving average score is: -14956708.25 \n",
      "score = -15480520.0, raw_score = -15480520.0\n",
      "Epoch 30, Moving average score is: -15009089.42 \n",
      "score = -15080253.0, raw_score = -15080253.0\n",
      "Epoch 31, Moving average score is: -15016205.78 \n",
      "score = -14682647.0, raw_score = -14682647.0\n",
      "save_figure: figures/2025-04-29-16-42-31-14682647.png\n",
      "Epoch 32, Moving average score is: -14982849.90 \n",
      "score = -15079278.0, raw_score = -15079278.0\n",
      "Epoch 33, Moving average score is: -14992492.71 \n",
      "score = -14682452.0, raw_score = -14682452.0\n",
      "Epoch 34, Moving average score is: -14961488.64 \n",
      "score = -14683673.0, raw_score = -14683673.0\n",
      "Epoch 35, Moving average score is: -14933707.08 \n",
      "score = -15083958.0, raw_score = -15083958.0\n",
      "Epoch 36, Moving average score is: -14948732.17 \n",
      "score = -15284891.0, raw_score = -15284891.0\n",
      "Epoch 37, Moving average score is: -14982348.05 \n",
      "score = -14883070.0, raw_score = -14883070.0\n",
      "Epoch 38, Moving average score is: -14972420.25 \n",
      "score = -15484108.0, raw_score = -15484108.0\n",
      "Epoch 39, Moving average score is: -15023589.02 \n",
      "score = -15077967.0, raw_score = -15077967.0\n",
      "save_figure: figures/2025-04-29-16-43-30-15077967.png\n",
      "Epoch 40, Moving average score is: -15029026.82 \n",
      "score = -14482266.0, raw_score = -14482266.0\n",
      "Epoch 41, Moving average score is: -14974350.74 \n",
      "score = -14883724.0, raw_score = -14883724.0\n",
      "Epoch 42, Moving average score is: -14965288.06 \n",
      "score = -14280772.0, raw_score = -14280772.0\n",
      "Epoch 43, Moving average score is: -14896836.46 \n",
      "score = -15279200.0, raw_score = -15279200.0\n",
      "Epoch 44, Moving average score is: -14935072.81 \n",
      "score = -15485191.0, raw_score = -15485191.0\n",
      "Epoch 45, Moving average score is: -14990084.63 \n",
      "score = -14879350.0, raw_score = -14879350.0\n",
      "Epoch 46, Moving average score is: -14979011.17 \n",
      "score = -14680268.0, raw_score = -14680268.0\n",
      "Epoch 47, Moving average score is: -14949136.85 \n",
      "score = -15084108.0, raw_score = -15084108.0\n",
      "save_figure: figures/2025-04-29-16-43-44-15084108.png\n",
      "Epoch 48, Moving average score is: -14962633.97 \n",
      "^C\n",
      "Traceback (most recent call last):\n",
      "  File \"/kaggle/working/placeRL/maskplace/PPO2.py\", line 391, in <module>\n",
      "    main()\n",
      "  File \"/kaggle/working/placeRL/maskplace/PPO2.py\", line 315, in main\n",
      "    agent.update()\n",
      "  File \"/kaggle/working/placeRL/maskplace/PPO2.py\", line 231, in update\n",
      "    dist = Categorical(action_probs)\n",
      "           ^^^^^^^^^^^^^^^^^^^^^^^^^\n",
      "  File \"/usr/local/lib/python3.11/dist-packages/torch/distributions/categorical.py\", line 72, in __init__\n",
      "    super().__init__(batch_shape, validate_args=validate_args)\n",
      "  File \"/usr/local/lib/python3.11/dist-packages/torch/distributions/distribution.py\", line 70, in __init__\n",
      "    if not valid.all():\n",
      "KeyboardInterrupt\n"
     ]
    }
   ],
   "source": [
    "!python PPO2.py"
   ]
  },
  {
   "cell_type": "code",
   "execution_count": null,
   "id": "615cd238",
   "metadata": {},
   "outputs": [],
   "source": []
  }
 ],
 "metadata": {
  "kernelspec": {
   "display_name": "Python 3 (ipykernel)",
   "language": "python",
   "name": "python3"
  },
  "language_info": {
   "codemirror_mode": {
    "name": "ipython",
    "version": 3
   },
   "file_extension": ".py",
   "mimetype": "text/x-python",
   "name": "python",
   "nbconvert_exporter": "python",
   "pygments_lexer": "ipython3",
   "version": "3.11.11"
  }
 },
 "nbformat": 4,
 "nbformat_minor": 5
}
